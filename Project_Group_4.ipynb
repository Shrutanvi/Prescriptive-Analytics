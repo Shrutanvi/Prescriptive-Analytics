{
 "cells": [
  {
   "cell_type": "markdown",
   "metadata": {},
   "source": [
    "### Factory Production Optimization\n",
    "\n",
    "- Group 4: Huixin Li, Prashanti Bijapur, Roshni Victor, Shrutanvi Datar, Vrinda Sehgal"
   ]
  },
  {
   "cell_type": "code",
   "execution_count": 1,
   "metadata": {
    "id": "Ny_Ht2IoC4y3"
   },
   "outputs": [],
   "source": [
    "import gurobipy as gp\n",
    "from gurobipy import GRB\n",
    "import pandas as pd\n",
    "import numpy as np"
   ]
  },
  {
   "cell_type": "markdown",
   "metadata": {},
   "source": [
    "### Assumptions\n",
    "\n",
    "- No inventory at the beggining of January.\n",
    "- The machinery is already installed and the factory is in running since 10 years.\n",
    "\n",
    "### Aim\n",
    "\n",
    "- Our aim is to help the factory owner to optimize the usage of machinery inturn storing accurate amount of inventory so as to meet the optimal level of demand and supply.\n"
   ]
  },
  {
   "cell_type": "markdown",
   "metadata": {
    "id": "_5cvVS7vRVGX"
   },
   "source": [
    "### Sets and Indices\n",
    "\n",
    "$n \\in \\text{Months}=\\{\\text{Jan},\\text{Feb},\\text{Mar},\\text{Apr},\\text{May},\\text{Jun}\\}$: Set of months.\n",
    "\n",
    "$p \\in \\text{Products}=\\{\"Glassware\",\"Home Decor\",\\dots,\"Furniture\"\\}$: Set of products.\n",
    "\n",
    "$m \\in \\text{Machines}=\\{\\text{Grinder},\\text{VertDrill},\\text{horiDrill},\\text{Borer},\\text{Planer}\\}$: Set of machines."
   ]
  },
  {
   "cell_type": "markdown",
   "metadata": {
    "id": "9NfvUjM_9mbT"
   },
   "source": [
    "### Decision Variables\n",
    "\n",
    "$\\text{Produce}_{n,p} \\in \\mathbb{R}^+$: Number of units of product $p$ to manufacture at month $n$.\n",
    "\n",
    "$\\text{Inventory}_{n,p} \\in [0, \\text{max_inventory}] \\subset \\mathbb{R}^+$: Number of units of product $p$ to store at month $n$.\n",
    "\n",
    "$\\text{Sold}_{n,p} \\in [0, \\text{max_sales}_{n,p}] \\subset \\mathbb{R}^+$: Number of units of product $p$ to sell at month $n$.\n",
    "\n",
    "$\\text{Maintenance}_{n,m} \\in \\{0,1,\\dots, \\text{down_req}_m\\} \\subset \\mathbb{N}$: Number of machines of type $m$ scheduled for maintenance at month $n$.\n"
   ]
  },
  {
   "cell_type": "markdown",
   "metadata": {
    "id": "c0e1Xb3HAI71"
   },
   "source": [
    "### Constraints\n",
    "\n",
    "- **Initial Balance:** For each product $p$, the number of units produced should be equal to the number of units sold plus the number stored (in units of product).\n",
    "\n",
    "\\begin{equation}\n",
    "\\text{Produce}_{\\text{Jan},p} = \\text{Sold}_{\\text{Jan},p} + \\text{Inventory}_{\\text{Jan},p} \\quad \\forall p \\in \\text{Products}\n",
    "\\tag{1}\n",
    "\\end{equation}\n",
    "\n",
    "- **Balance:** For each product $p$, the number of units produced in month $n$ and previously stored should be equal to the number of units sold and stored in that month (in units of product).\n",
    "\n",
    "\\begin{equation}\n",
    "\\text{Inventory}_{n-1,p} + \\text{Produce}_{n,p} = \\text{Sold}_{n,p} + \\text{Inventory}_{n,p} \\quad \\forall (n,p) \\in \\text{Months} \\setminus \\{\\text{Jan}\\} \\times \\text{Products}\n",
    "\\tag{2}\n",
    "\\end{equation}\n",
    "\n",
    "- **Inventory Target:** The number of units of product $p$ kept in inventory at the end of the planning horizon should hit the target (in units of product).\n",
    "\n",
    "\\begin{equation}\n",
    "\\text{Inventory}_{\\text{Jun},p} = \\text{store_target} \\quad \\forall p \\in \\text{Products}\n",
    "\\tag{3}\n",
    "\\end{equation}\n",
    "\n",
    "- **Maintenance**: The number of machines of type $m$ scheduled for maintenance should meet the requirement.\n",
    "\n",
    "\\begin{equation}\n",
    "\\sum_{n \\in \\text{Months}}\\text{Maintenance}_{n,m} = \\text{down_req}_m \\quad \\forall m \\in \\text{Machines}\n",
    "\\tag{4}\n",
    "\\end{equation}\n",
    "\n",
    "- **Machine Capacity:** Total time used to manufacture any product at machine type $m$ cannot exceed its monthly capacity (in hours).\n",
    "\n",
    "\\begin{equation}\n",
    "\\sum_{p \\in \\text{Products}}\\text{time_req}_{m,p}*\\text{Produce}_{n,p} \\leq \\text{hours_per_month}*(\\text{installed}_m - \\text{Maintenance}_{n,m}) \\quad \\forall (n,m) \\in \\text{Months} \\times \\text{Machines}\n",
    "\\tag{5}\n",
    "\\end{equation}\n",
    "\n"
   ]
  },
  {
   "cell_type": "markdown",
   "metadata": {
    "id": "vxQ3XZWCC9Y2"
   },
   "source": [
    "### Objective Function\n",
    "\n",
    "- **Profit:** Maximize the total profit (in USD).\n",
    "\n",
    "\\begin{equation}\n",
    "\\text{Maximize} \\quad T = \\sum_{n \\in \\text{Months}}\\sum_{p \\in \\text{Products}}\n",
    "(\\text{Profit}_p*\\text{Produce}_{n,p} - \\text{Inventory_cost}*\\text{Inventory}_{n,p})\n",
    "\\\n",
    "\\end{equation}"
   ]
  },
  {
   "cell_type": "code",
   "execution_count": 2,
   "metadata": {
    "id": "DAgxAGCBGhBe"
   },
   "outputs": [],
   "source": [
    "# Parameters\n",
    "\n",
    "products = [\"Glassware\", \"Home Decor\", \"Plumbing\", \"Automotive\", \"Kitchen Appliances\", \"Electronics\", \"Furniture\"]\n",
    "machines = [\"grinder\", \"vertDrill\", \"horiDrill\", \"borer\", \"planer\"]\n",
    "months = [\"Jan\", \"Feb\", \"Mar\", \"Apr\", \"May\", \"Jun\"]\n",
    "\n",
    "profit = {\"Glassware\":10, \"Home Decor\":6, \"Plumbing\":8, \"Automotive\":4, \"Kitchen Appliances\":11, \"Electronics\":9, \"Furniture\":3}\n",
    "\n",
    "time_req = {\n",
    "    \"grinder\": {    \"Glassware\": 0.5, \"Home Decor\": 0.7, \"Kitchen Appliances\": 0.3,\n",
    "                    \"Electronics\": 0.2, \"Furniture\": 0.5 },\n",
    "    \"vertDrill\": {  \"Glassware\": 0.1, \"Home Decor\": 0.2, \"Automotive\": 0.3,\n",
    "                    \"Electronics\": 0.6 },\n",
    "    \"horiDrill\": {  \"Glassware\": 0.2, \"Plumbing\": 0.8, \"Furniture\": 0.6 },\n",
    "    \"borer\": {      \"Glassware\": 0.05,\"Home Decor\": 0.03,\"Automotive\": 0.07,\n",
    "                    \"Kitchen Appliances\": 0.1, \"Furniture\": 0.08 },\n",
    "    \"planer\": {     \"Plumbing\": 0.01,\"Kitchen Appliances\": 0.05,\"Furniture\": 0.05 }\n",
    "}\n",
    "\n",
    "# number of each machine available\n",
    "installed = {\"grinder\":4, \"vertDrill\":2, \"horiDrill\":3, \"borer\":1, \"planer\":1} \n",
    "\n",
    "# number of machines that need to be under maintenance\n",
    "down_req = {\"grinder\":2, \"vertDrill\":2, \"horiDrill\":3, \"borer\":1, \"planer\":1} \n",
    "\n",
    "# market limitation of sells\n",
    "max_sales = {\n",
    "    (\"Jan\", \"Glassware\") : 500,\n",
    "    (\"Jan\", \"Home Decor\") : 1000,\n",
    "    (\"Jan\", \"Plumbing\") : 300,\n",
    "    (\"Jan\", \"Automotive\") : 300,\n",
    "    (\"Jan\", \"Kitchen Appliances\") : 800,\n",
    "    (\"Jan\", \"Electronics\") : 200,\n",
    "    (\"Jan\", \"Furniture\") : 100,\n",
    "    (\"Feb\", \"Glassware\") : 600,\n",
    "    (\"Feb\", \"Home Decor\") : 500,\n",
    "    (\"Feb\", \"Plumbing\") : 200,\n",
    "    (\"Feb\", \"Automotive\") : 0,\n",
    "    (\"Feb\", \"Kitchen Appliances\") : 400,\n",
    "    (\"Feb\", \"Electronics\") : 300,\n",
    "    (\"Feb\", \"Furniture\") : 150,\n",
    "    (\"Mar\", \"Glassware\") : 300,\n",
    "    (\"Mar\", \"Home Decor\") : 600,\n",
    "    (\"Mar\", \"Plumbing\") : 0,\n",
    "    (\"Mar\", \"Automotive\") : 0,\n",
    "    (\"Mar\", \"Kitchen Appliances\") : 500,\n",
    "    (\"Mar\", \"Electronics\") : 400,\n",
    "    (\"Mar\", \"Furniture\") : 100,\n",
    "    (\"Apr\", \"Glassware\") : 200,\n",
    "    (\"Apr\", \"Home Decor\") : 300,\n",
    "    (\"Apr\", \"Plumbing\") : 400,\n",
    "    (\"Apr\", \"Automotive\") : 500,\n",
    "    (\"Apr\", \"Kitchen Appliances\") : 200,\n",
    "    (\"Apr\", \"Electronics\") : 0,\n",
    "    (\"Apr\", \"Furniture\") : 100,\n",
    "    (\"May\", \"Glassware\") : 0,\n",
    "    (\"May\", \"Home Decor\") : 100,\n",
    "    (\"May\", \"Plumbing\") : 500,\n",
    "    (\"May\", \"Automotive\") : 100,\n",
    "    (\"May\", \"Kitchen Appliances\") : 1000,\n",
    "    (\"May\", \"Electronics\") : 300,\n",
    "    (\"May\", \"Furniture\") : 0,\n",
    "    (\"Jun\", \"Glassware\") : 500,\n",
    "    (\"Jun\", \"Home Decor\") : 500,\n",
    "    (\"Jun\", \"Plumbing\") : 100,\n",
    "    (\"Jun\", \"Automotive\") : 300,\n",
    "    (\"Jun\", \"Kitchen Appliances\") : 1100,\n",
    "    (\"Jun\", \"Electronics\") : 500,\n",
    "    (\"Jun\", \"Furniture\") : 60,\n",
    "}\n",
    "\n",
    "Inventory_cost = 0.5\n",
    "max_inventory = 100\n",
    "store_target = 50\n",
    "hours_per_month = 2*8*24"
   ]
  },
  {
   "cell_type": "markdown",
   "metadata": {
    "id": "L5xNvuhjJgpF"
   },
   "source": [
    "#### Adding decision variables"
   ]
  },
  {
   "cell_type": "code",
   "execution_count": 3,
   "metadata": {
    "colab": {
     "base_uri": "https://localhost:8080/"
    },
    "id": "IEiODLCLJlZ7",
    "outputId": "61e9abf2-79eb-4e9b-9ced-4e9055405299"
   },
   "outputs": [
    {
     "name": "stdout",
     "output_type": "stream",
     "text": [
      "Set parameter Username\n",
      "Academic license - for non-commercial use only - expires 2024-04-06\n"
     ]
    }
   ],
   "source": [
    "factory = gp.Model('Factory Planning II')\n",
    "\n",
    "# quantity manufactured\n",
    "Produce = factory.addVars(months, products, vtype=GRB.INTEGER, name=\"Produce\")\n",
    "\n",
    "# quantity inventory stored\n",
    "Inventory = factory.addVars(months, products, ub=max_inventory, vtype=GRB.INTEGER, name=\"Inventory\") \n",
    "\n",
    "# quantity sold\n",
    "Sold = factory.addVars(months, products, ub=max_sales, vtype=GRB.INTEGER, name=\"Sold\") \n",
    "\n",
    "# number of machines under maintenance\n",
    "Maintenance = factory.addVars(months, machines, vtype=GRB.INTEGER, ub=down_req, name=\"Maintain\") "
   ]
  },
  {
   "cell_type": "markdown",
   "metadata": {
    "id": "fMtZaFljLLsn"
   },
   "source": [
    "### Adding Constraints"
   ]
  },
  {
   "cell_type": "markdown",
   "metadata": {},
   "source": [
    "#### 1. Initial Balance\n",
    "For each product  𝑝 , the number of units produced should be equal to the number of units sold plus the number stored (in units of product)."
   ]
  },
  {
   "cell_type": "code",
   "execution_count": 4,
   "metadata": {
    "id": "LNPl5hB6LOv7"
   },
   "outputs": [],
   "source": [
    "Initial_Balance = factory.addConstrs((Produce[months[0], product] == Sold[months[0], product] \n",
    "                  + Inventory[months[0], product] for product in products), name=\"Initial_Balance\")"
   ]
  },
  {
   "cell_type": "markdown",
   "metadata": {},
   "source": [
    "#### 2. Balance\n",
    "For each product  𝑝 , the number of units produced in month  𝑛  and previously stored should be equal to the number of units sold and stored in that month (in units of product)."
   ]
  },
  {
   "cell_type": "code",
   "execution_count": null,
   "metadata": {},
   "outputs": [],
   "source": [
    "Balance = factory.addConstrs((Inventory[months[months.index(month) -1], product] + \n",
    "                Produce[month, product] == Sold[month, product] + Inventory[month, product] \n",
    "                for product in products for month in months \n",
    "                if month != months[0]), name=\"Balance\")"
   ]
  },
  {
   "cell_type": "markdown",
   "metadata": {},
   "source": [
    "#### 3. Inventory Target\n",
    "The number of units of product  𝑝  kept in inventory at the end of the planning horizon should hit the target (in units of product)."
   ]
  },
  {
   "cell_type": "code",
   "execution_count": 5,
   "metadata": {
    "id": "UT8nNW_5UeUJ"
   },
   "outputs": [],
   "source": [
    "Target_inventory = factory.addConstrs((Inventory[months[-1], product] == store_target for product in products),\\\n",
    "                                      name=\"Target_inventory\")"
   ]
  },
  {
   "cell_type": "markdown",
   "metadata": {},
   "source": [
    "#### 4. Machine Capacity\n",
    "Total time used to manufacture any product at machine type  𝑚  cannot exceed its monthly capacity (in hours)."
   ]
  },
  {
   "cell_type": "code",
   "execution_count": 6,
   "metadata": {
    "id": "oP43jPAwUeUJ"
   },
   "outputs": [],
   "source": [
    "MachineCap = factory.addConstrs((gp.quicksum(time_req[machine][product] * Produce[month, product]\n",
    "                             for product in time_req[machine])\n",
    "                    <= hours_per_month * (installed[machine] - Maintenance[month, machine])\n",
    "                    for machine in machines for month in months),\n",
    "                   name = \"MachineCap\")"
   ]
  },
  {
   "cell_type": "markdown",
   "metadata": {
    "id": "v3WOfa20UeUJ"
   },
   "source": [
    "#### 5. Maintenance\n",
    "\n",
    "The maintenance constraints ensure that the specified number and types of machines are down due maintenance in some month. Which month a machine is down is now part of the optimization."
   ]
  },
  {
   "cell_type": "code",
   "execution_count": 7,
   "metadata": {
    "id": "C2MfkIuYUeUJ"
   },
   "outputs": [],
   "source": [
    "Maintain = factory.addConstrs((Maintenance.sum('*', machine) == down_req[machine] for machine in machines), \\\n",
    "                              name=\"Maintain\")"
   ]
  },
  {
   "cell_type": "markdown",
   "metadata": {},
   "source": [
    "### Objective Function"
   ]
  },
  {
   "cell_type": "code",
   "execution_count": 8,
   "metadata": {
    "id": "ercp1w6lUeUK"
   },
   "outputs": [],
   "source": [
    "obj = gp.quicksum(profit[product] * Sold[month, product] -  Inventory_cost * Inventory[month, product]  \n",
    "               for month in months for product in products)\n",
    "\n",
    "factory.setObjective(obj, GRB.MAXIMIZE)"
   ]
  },
  {
   "cell_type": "markdown",
   "metadata": {
    "id": "Xo0YvKmxUeUK"
   },
   "source": [
    "#### Optimization and Gurobi Optimal Solution"
   ]
  },
  {
   "cell_type": "code",
   "execution_count": 9,
   "metadata": {
    "colab": {
     "base_uri": "https://localhost:8080/"
    },
    "id": "DgQkvuiLUeUK",
    "outputId": "b0635ba4-132d-48ad-aa33-a03f09e2c3be"
   },
   "outputs": [
    {
     "name": "stdout",
     "output_type": "stream",
     "text": [
      "Gurobi Optimizer version 10.0.1 build v10.0.1rc0 (mac64[rosetta2])\n",
      "\n",
      "CPU model: Apple M1\n",
      "Thread count: 8 physical cores, 8 logical processors, using up to 8 threads\n",
      "\n",
      "Optimize a model with 84 rows, 156 columns and 348 nonzeros\n",
      "Model fingerprint: 0xcbc842ba\n",
      "Variable types: 0 continuous, 156 integer (0 binary)\n",
      "Coefficient statistics:\n",
      "  Matrix range     [1e-02, 4e+02]\n",
      "  Objective range  [5e-01, 1e+01]\n",
      "  Bounds range     [6e+01, 1e+03]\n",
      "  RHS range        [1e+00, 2e+03]\n",
      "Found heuristic solution: objective -175.0000000\n",
      "Presolve removed 22 rows and 27 columns\n",
      "Presolve time: 0.01s\n",
      "Presolved: 62 rows, 129 columns, 278 nonzeros\n",
      "Variable types: 0 continuous, 129 integer (12 binary)\n",
      "Found heuristic solution: objective 12.0000000\n",
      "\n",
      "Root relaxation: objective 1.164550e+05, 41 iterations, 0.00 seconds (0.00 work units)\n",
      "\n",
      "    Nodes    |    Current Node    |     Objective Bounds      |     Work\n",
      " Expl Unexpl |  Obj  Depth IntInf | Incumbent    BestBd   Gap | It/Node Time\n",
      "\n",
      "     0     0 116455.000    0   10   12.00000 116455.000      -     -    0s\n",
      "H    0     0                    104955.00000 116455.000  11.0%     -    0s\n",
      "H    0     0                    108855.00000 111686.236  2.60%     -    0s\n",
      "     0     0 108855.000    0   18 108855.000 108855.000  0.00%     -    0s\n",
      "\n",
      "Cutting planes:\n",
      "  Gomory: 6\n",
      "  Implied bound: 12\n",
      "  MIR: 10\n",
      "  Relax-and-lift: 18\n",
      "\n",
      "Explored 1 nodes (91 simplex iterations) in 0.07 seconds (0.00 work units)\n",
      "Thread count was 8 (of 8 available processors)\n",
      "\n",
      "Solution count 4: 108855 104955 12 -175 \n",
      "\n",
      "Optimal solution found (tolerance 1.00e-04)\n",
      "Best objective 1.088550000000e+05, best bound 1.088550000000e+05, gap 0.0000%\n"
     ]
    }
   ],
   "source": [
    "factory.optimize()"
   ]
  },
  {
   "cell_type": "markdown",
   "metadata": {
    "id": "aFRYEC5LUeUK"
   },
   "source": [
    "\n",
    "### Analysis\n",
    "\n",
    "The maximum profit that can be achieved by considering all the constraints is $\\$108,855.00$."
   ]
  },
  {
   "cell_type": "markdown",
   "metadata": {},
   "source": [
    "#### Production Plan\n",
    "This plan determines the amount of each product to make at each period of the planning horizon."
   ]
  },
  {
   "cell_type": "code",
   "execution_count": 11,
   "metadata": {
    "colab": {
     "base_uri": "https://localhost:8080/",
     "height": 238
    },
    "id": "1jEm6NT5UeUK",
    "outputId": "aa88066f-5fff-4e9f-cc2c-1aa5bc85629c"
   },
   "outputs": [
    {
     "data": {
      "text/html": [
       "<div>\n",
       "<style scoped>\n",
       "    .dataframe tbody tr th:only-of-type {\n",
       "        vertical-align: middle;\n",
       "    }\n",
       "\n",
       "    .dataframe tbody tr th {\n",
       "        vertical-align: top;\n",
       "    }\n",
       "\n",
       "    .dataframe thead th {\n",
       "        text-align: right;\n",
       "    }\n",
       "</style>\n",
       "<table border=\"1\" class=\"dataframe\">\n",
       "  <thead>\n",
       "    <tr style=\"text-align: right;\">\n",
       "      <th></th>\n",
       "      <th>Glassware</th>\n",
       "      <th>Home Decor</th>\n",
       "      <th>Plumbing</th>\n",
       "      <th>Automotive</th>\n",
       "      <th>Kitchen Appliances</th>\n",
       "      <th>Electronics</th>\n",
       "      <th>Furniture</th>\n",
       "    </tr>\n",
       "  </thead>\n",
       "  <tbody>\n",
       "    <tr>\n",
       "      <th>Jan</th>\n",
       "      <td>500</td>\n",
       "      <td>1000</td>\n",
       "      <td>300</td>\n",
       "      <td>300</td>\n",
       "      <td>800</td>\n",
       "      <td>200</td>\n",
       "      <td>100</td>\n",
       "    </tr>\n",
       "    <tr>\n",
       "      <th>Feb</th>\n",
       "      <td>600</td>\n",
       "      <td>500</td>\n",
       "      <td>200</td>\n",
       "      <td>0</td>\n",
       "      <td>400</td>\n",
       "      <td>300</td>\n",
       "      <td>150</td>\n",
       "    </tr>\n",
       "    <tr>\n",
       "      <th>Mar</th>\n",
       "      <td>400</td>\n",
       "      <td>700</td>\n",
       "      <td>100</td>\n",
       "      <td>100</td>\n",
       "      <td>600</td>\n",
       "      <td>400</td>\n",
       "      <td>200</td>\n",
       "    </tr>\n",
       "    <tr>\n",
       "      <th>Apr</th>\n",
       "      <td>0</td>\n",
       "      <td>0</td>\n",
       "      <td>0</td>\n",
       "      <td>0</td>\n",
       "      <td>0</td>\n",
       "      <td>0</td>\n",
       "      <td>0</td>\n",
       "    </tr>\n",
       "    <tr>\n",
       "      <th>May</th>\n",
       "      <td>0</td>\n",
       "      <td>100</td>\n",
       "      <td>500</td>\n",
       "      <td>100</td>\n",
       "      <td>1000</td>\n",
       "      <td>300</td>\n",
       "      <td>0</td>\n",
       "    </tr>\n",
       "    <tr>\n",
       "      <th>Jun</th>\n",
       "      <td>550</td>\n",
       "      <td>550</td>\n",
       "      <td>150</td>\n",
       "      <td>350</td>\n",
       "      <td>1150</td>\n",
       "      <td>550</td>\n",
       "      <td>110</td>\n",
       "    </tr>\n",
       "  </tbody>\n",
       "</table>\n",
       "</div>"
      ],
      "text/plain": [
       "     Glassware  Home Decor  Plumbing  Automotive  Kitchen Appliances  \\\n",
       "Jan        500        1000       300         300                 800   \n",
       "Feb        600         500       200           0                 400   \n",
       "Mar        400         700       100         100                 600   \n",
       "Apr          0           0         0           0                   0   \n",
       "May          0         100       500         100                1000   \n",
       "Jun        550         550       150         350                1150   \n",
       "\n",
       "     Electronics  Furniture  \n",
       "Jan          200        100  \n",
       "Feb          300        150  \n",
       "Mar          400        200  \n",
       "Apr            0          0  \n",
       "May          300          0  \n",
       "Jun          550        110  "
      ]
     },
     "execution_count": 11,
     "metadata": {},
     "output_type": "execute_result"
    }
   ],
   "source": [
    "rows = months.copy()\n",
    "columns = products.copy()\n",
    "make_plan = pd.DataFrame(columns=columns, index=rows, data=0)\n",
    "\n",
    "for month, product in Produce.keys():\n",
    "    if (abs(Produce[month, product].x) > 1e-6):\n",
    "        make_plan.loc[month, product] = np.round(Produce[month, product].x, 1)\n",
    "make_plan"
   ]
  },
  {
   "cell_type": "markdown",
   "metadata": {
    "id": "KKkZYeu3UeUK"
   },
   "source": [
    "#### Sales Plan\n",
    "This plan defines the amount of each product to sell at each period of the planning horizon. "
   ]
  },
  {
   "cell_type": "code",
   "execution_count": 12,
   "metadata": {
    "colab": {
     "base_uri": "https://localhost:8080/",
     "height": 238
    },
    "id": "VvUvREpzUeUK",
    "outputId": "fa5502a1-8173-4c53-8cf0-912757fd1b42"
   },
   "outputs": [
    {
     "data": {
      "text/html": [
       "<div>\n",
       "<style scoped>\n",
       "    .dataframe tbody tr th:only-of-type {\n",
       "        vertical-align: middle;\n",
       "    }\n",
       "\n",
       "    .dataframe tbody tr th {\n",
       "        vertical-align: top;\n",
       "    }\n",
       "\n",
       "    .dataframe thead th {\n",
       "        text-align: right;\n",
       "    }\n",
       "</style>\n",
       "<table border=\"1\" class=\"dataframe\">\n",
       "  <thead>\n",
       "    <tr style=\"text-align: right;\">\n",
       "      <th></th>\n",
       "      <th>Glassware</th>\n",
       "      <th>Home Decor</th>\n",
       "      <th>Plumbing</th>\n",
       "      <th>Automotive</th>\n",
       "      <th>Kitchen Appliances</th>\n",
       "      <th>Electronics</th>\n",
       "      <th>Furniture</th>\n",
       "    </tr>\n",
       "  </thead>\n",
       "  <tbody>\n",
       "    <tr>\n",
       "      <th>Jan</th>\n",
       "      <td>500</td>\n",
       "      <td>1000</td>\n",
       "      <td>300</td>\n",
       "      <td>300</td>\n",
       "      <td>800</td>\n",
       "      <td>200</td>\n",
       "      <td>100</td>\n",
       "    </tr>\n",
       "    <tr>\n",
       "      <th>Feb</th>\n",
       "      <td>600</td>\n",
       "      <td>500</td>\n",
       "      <td>200</td>\n",
       "      <td>0</td>\n",
       "      <td>400</td>\n",
       "      <td>300</td>\n",
       "      <td>150</td>\n",
       "    </tr>\n",
       "    <tr>\n",
       "      <th>Mar</th>\n",
       "      <td>300</td>\n",
       "      <td>600</td>\n",
       "      <td>0</td>\n",
       "      <td>0</td>\n",
       "      <td>500</td>\n",
       "      <td>400</td>\n",
       "      <td>100</td>\n",
       "    </tr>\n",
       "    <tr>\n",
       "      <th>Apr</th>\n",
       "      <td>100</td>\n",
       "      <td>100</td>\n",
       "      <td>100</td>\n",
       "      <td>100</td>\n",
       "      <td>100</td>\n",
       "      <td>0</td>\n",
       "      <td>100</td>\n",
       "    </tr>\n",
       "    <tr>\n",
       "      <th>May</th>\n",
       "      <td>0</td>\n",
       "      <td>100</td>\n",
       "      <td>500</td>\n",
       "      <td>100</td>\n",
       "      <td>1000</td>\n",
       "      <td>300</td>\n",
       "      <td>0</td>\n",
       "    </tr>\n",
       "    <tr>\n",
       "      <th>Jun</th>\n",
       "      <td>500</td>\n",
       "      <td>500</td>\n",
       "      <td>100</td>\n",
       "      <td>300</td>\n",
       "      <td>1100</td>\n",
       "      <td>500</td>\n",
       "      <td>60</td>\n",
       "    </tr>\n",
       "  </tbody>\n",
       "</table>\n",
       "</div>"
      ],
      "text/plain": [
       "     Glassware  Home Decor  Plumbing  Automotive  Kitchen Appliances  \\\n",
       "Jan        500        1000       300         300                 800   \n",
       "Feb        600         500       200           0                 400   \n",
       "Mar        300         600         0           0                 500   \n",
       "Apr        100         100       100         100                 100   \n",
       "May          0         100       500         100                1000   \n",
       "Jun        500         500       100         300                1100   \n",
       "\n",
       "     Electronics  Furniture  \n",
       "Jan          200        100  \n",
       "Feb          300        150  \n",
       "Mar          400        100  \n",
       "Apr            0        100  \n",
       "May          300          0  \n",
       "Jun          500         60  "
      ]
     },
     "execution_count": 12,
     "metadata": {},
     "output_type": "execute_result"
    }
   ],
   "source": [
    "rows = months.copy()\n",
    "columns = products.copy()\n",
    "sell_plan = pd.DataFrame(columns=columns, index=rows, data=0)\n",
    "\n",
    "for month, product in Sold.keys():\n",
    "    if (abs(Sold[month, product].x) > 1e-6):\n",
    "        sell_plan.loc[month, product] = np.round(Sold[month, product].x, 1)\n",
    "sell_plan"
   ]
  },
  {
   "cell_type": "markdown",
   "metadata": {
    "id": "kNiis2MrUeUL"
   },
   "source": [
    "### Inventory Plan\n",
    "This plan reflects the amount of products to be stored in inventory at the end of each period of the planning horizon."
   ]
  },
  {
   "cell_type": "code",
   "execution_count": 13,
   "metadata": {
    "colab": {
     "base_uri": "https://localhost:8080/",
     "height": 238
    },
    "id": "Onk2Vh2EUeUL",
    "outputId": "bec92574-2edc-4ca0-d7fe-76776101bb15"
   },
   "outputs": [
    {
     "data": {
      "text/html": [
       "<div>\n",
       "<style scoped>\n",
       "    .dataframe tbody tr th:only-of-type {\n",
       "        vertical-align: middle;\n",
       "    }\n",
       "\n",
       "    .dataframe tbody tr th {\n",
       "        vertical-align: top;\n",
       "    }\n",
       "\n",
       "    .dataframe thead th {\n",
       "        text-align: right;\n",
       "    }\n",
       "</style>\n",
       "<table border=\"1\" class=\"dataframe\">\n",
       "  <thead>\n",
       "    <tr style=\"text-align: right;\">\n",
       "      <th></th>\n",
       "      <th>Glassware</th>\n",
       "      <th>Home Decor</th>\n",
       "      <th>Plumbing</th>\n",
       "      <th>Automotive</th>\n",
       "      <th>Kitchen Appliances</th>\n",
       "      <th>Electronics</th>\n",
       "      <th>Furniture</th>\n",
       "    </tr>\n",
       "  </thead>\n",
       "  <tbody>\n",
       "    <tr>\n",
       "      <th>Jan</th>\n",
       "      <td>0</td>\n",
       "      <td>0</td>\n",
       "      <td>0</td>\n",
       "      <td>0</td>\n",
       "      <td>0</td>\n",
       "      <td>0</td>\n",
       "      <td>0</td>\n",
       "    </tr>\n",
       "    <tr>\n",
       "      <th>Feb</th>\n",
       "      <td>0</td>\n",
       "      <td>0</td>\n",
       "      <td>0</td>\n",
       "      <td>0</td>\n",
       "      <td>0</td>\n",
       "      <td>0</td>\n",
       "      <td>0</td>\n",
       "    </tr>\n",
       "    <tr>\n",
       "      <th>Mar</th>\n",
       "      <td>100</td>\n",
       "      <td>100</td>\n",
       "      <td>100</td>\n",
       "      <td>100</td>\n",
       "      <td>100</td>\n",
       "      <td>0</td>\n",
       "      <td>100</td>\n",
       "    </tr>\n",
       "    <tr>\n",
       "      <th>Apr</th>\n",
       "      <td>0</td>\n",
       "      <td>0</td>\n",
       "      <td>0</td>\n",
       "      <td>0</td>\n",
       "      <td>0</td>\n",
       "      <td>0</td>\n",
       "      <td>0</td>\n",
       "    </tr>\n",
       "    <tr>\n",
       "      <th>May</th>\n",
       "      <td>0</td>\n",
       "      <td>0</td>\n",
       "      <td>0</td>\n",
       "      <td>0</td>\n",
       "      <td>0</td>\n",
       "      <td>0</td>\n",
       "      <td>0</td>\n",
       "    </tr>\n",
       "    <tr>\n",
       "      <th>Jun</th>\n",
       "      <td>50</td>\n",
       "      <td>50</td>\n",
       "      <td>50</td>\n",
       "      <td>50</td>\n",
       "      <td>50</td>\n",
       "      <td>50</td>\n",
       "      <td>50</td>\n",
       "    </tr>\n",
       "  </tbody>\n",
       "</table>\n",
       "</div>"
      ],
      "text/plain": [
       "     Glassware  Home Decor  Plumbing  Automotive  Kitchen Appliances  \\\n",
       "Jan          0           0         0           0                   0   \n",
       "Feb          0           0         0           0                   0   \n",
       "Mar        100         100       100         100                 100   \n",
       "Apr          0           0         0           0                   0   \n",
       "May          0           0         0           0                   0   \n",
       "Jun         50          50        50          50                  50   \n",
       "\n",
       "     Electronics  Furniture  \n",
       "Jan            0          0  \n",
       "Feb            0          0  \n",
       "Mar            0        100  \n",
       "Apr            0          0  \n",
       "May            0          0  \n",
       "Jun           50         50  "
      ]
     },
     "execution_count": 13,
     "metadata": {},
     "output_type": "execute_result"
    }
   ],
   "source": [
    "rows = months.copy()\n",
    "columns = products.copy()\n",
    "store_plan = pd.DataFrame(columns=columns, index=rows, data=0)\n",
    "\n",
    "for month, product in Inventory.keys():\n",
    "    if (abs(Inventory[month, product].x) > 1e-6):\n",
    "        store_plan.loc[month, product] = np.round(Inventory[month, product].x, 1)\n",
    "store_plan"
   ]
  },
  {
   "cell_type": "markdown",
   "metadata": {
    "id": "ZeElVB7tUeUL"
   },
   "source": [
    "### Maintenance Plan\n",
    "This plan shows the machines to be under maintenance for each period of the planning horizon."
   ]
  },
  {
   "cell_type": "code",
   "execution_count": 14,
   "metadata": {
    "colab": {
     "base_uri": "https://localhost:8080/",
     "height": 238
    },
    "id": "gpL2mvGDUeUL",
    "outputId": "46005a8b-02d1-4d1c-c52f-84eeb9f912ab"
   },
   "outputs": [
    {
     "data": {
      "text/html": [
       "<div>\n",
       "<style scoped>\n",
       "    .dataframe tbody tr th:only-of-type {\n",
       "        vertical-align: middle;\n",
       "    }\n",
       "\n",
       "    .dataframe tbody tr th {\n",
       "        vertical-align: top;\n",
       "    }\n",
       "\n",
       "    .dataframe thead th {\n",
       "        text-align: right;\n",
       "    }\n",
       "</style>\n",
       "<table border=\"1\" class=\"dataframe\">\n",
       "  <thead>\n",
       "    <tr style=\"text-align: right;\">\n",
       "      <th></th>\n",
       "      <th>grinder</th>\n",
       "      <th>vertDrill</th>\n",
       "      <th>horiDrill</th>\n",
       "      <th>borer</th>\n",
       "      <th>planer</th>\n",
       "    </tr>\n",
       "  </thead>\n",
       "  <tbody>\n",
       "    <tr>\n",
       "      <th>Jan</th>\n",
       "      <td>0</td>\n",
       "      <td>0</td>\n",
       "      <td>0</td>\n",
       "      <td>0</td>\n",
       "      <td>0</td>\n",
       "    </tr>\n",
       "    <tr>\n",
       "      <th>Feb</th>\n",
       "      <td>0</td>\n",
       "      <td>0</td>\n",
       "      <td>0</td>\n",
       "      <td>0</td>\n",
       "      <td>0</td>\n",
       "    </tr>\n",
       "    <tr>\n",
       "      <th>Mar</th>\n",
       "      <td>0</td>\n",
       "      <td>0</td>\n",
       "      <td>1</td>\n",
       "      <td>0</td>\n",
       "      <td>0</td>\n",
       "    </tr>\n",
       "    <tr>\n",
       "      <th>Apr</th>\n",
       "      <td>2</td>\n",
       "      <td>1</td>\n",
       "      <td>0</td>\n",
       "      <td>1</td>\n",
       "      <td>1</td>\n",
       "    </tr>\n",
       "    <tr>\n",
       "      <th>May</th>\n",
       "      <td>0</td>\n",
       "      <td>1</td>\n",
       "      <td>0</td>\n",
       "      <td>0</td>\n",
       "      <td>0</td>\n",
       "    </tr>\n",
       "    <tr>\n",
       "      <th>Jun</th>\n",
       "      <td>0</td>\n",
       "      <td>0</td>\n",
       "      <td>2</td>\n",
       "      <td>0</td>\n",
       "      <td>0</td>\n",
       "    </tr>\n",
       "  </tbody>\n",
       "</table>\n",
       "</div>"
      ],
      "text/plain": [
       "     grinder  vertDrill  horiDrill  borer  planer\n",
       "Jan        0          0          0      0       0\n",
       "Feb        0          0          0      0       0\n",
       "Mar        0          0          1      0       0\n",
       "Apr        2          1          0      1       1\n",
       "May        0          1          0      0       0\n",
       "Jun        0          0          2      0       0"
      ]
     },
     "execution_count": 14,
     "metadata": {},
     "output_type": "execute_result"
    }
   ],
   "source": [
    "rows = months.copy()\n",
    "columns = machines.copy()\n",
    "repair_plan = pd.DataFrame(columns=columns, index=rows, data=0)\n",
    "\n",
    "for month, machine in Maintenance.keys():\n",
    "    if (abs(Maintenance[month, machine].x) > 1e-6):\n",
    "        repair_plan.loc[month, machine] = Maintenance[month, machine].x\n",
    "repair_plan"
   ]
  },
  {
   "cell_type": "markdown",
   "metadata": {
    "id": "UZ44AX66UeUL"
   },
   "source": [
    "\n",
    "## References\n",
    "\n",
    "H. Paul Williams, Model Building in Mathematical Programming, fifth edition.\n"
   ]
  }
 ],
 "metadata": {
  "colab": {
   "provenance": []
  },
  "kernelspec": {
   "display_name": "Python 3 (ipykernel)",
   "language": "python",
   "name": "python3"
  },
  "language_info": {
   "codemirror_mode": {
    "name": "ipython",
    "version": 3
   },
   "file_extension": ".py",
   "mimetype": "text/x-python",
   "name": "python",
   "nbconvert_exporter": "python",
   "pygments_lexer": "ipython3",
   "version": "3.10.10"
  }
 },
 "nbformat": 4,
 "nbformat_minor": 1
}
